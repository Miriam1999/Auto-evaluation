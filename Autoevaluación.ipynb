{
 "cells": [
  {
   "cell_type": "markdown",
   "metadata": {},
   "source": [
    "# Autoevaluación"
   ]
  },
  {
   "cell_type": "markdown",
   "metadata": {},
   "source": [
    "Considero que de todos los cursos que he tenido hasta ahora, **este es uno de los que más me ha gustado**. Esto es porque como llevo apenas concluídos dos semestres, no he tenido la oportunidad de observar bien qué es lo que voy a estar haciendo cuando me convierta en una profesional. Esto quiere decir que casi no he visto asuntos técnicos; la mayoría de materias que he tomado han sido de tronco común. **Sólo ésta clase y la de Bolsa de Valores me han brindado la oportunidad de saber qué tipo de cosas voy a poder hacer conforme avance en mi carrera**."
   ]
  },
  {
   "cell_type": "markdown",
   "metadata": {},
   "source": [
    "Hubo varios temas en este curso que me gustaron mucho porque estaban directamente relacionados con la Ingeniería Financiera, tales como la **probabilidad precio umbral** o el **lector de datos de Yahoo Finance de la librería de Pandas**. De hecho, me hubiera gustado haber tomado esta clase simultáneamente con la de Algoritmos y Programación porque hubiera sabido escoger un proyecto. En la clase de Algoritmos y Programación no vi casi nada sobre las aplicaciones de la programación en mi carrera y por eso no sube qué hacer de proyecto final. Tanto es así que dejé que el profesor me asignara un proyecto, el cual terminó siendo un gestor de bibliotecas. Aunque sí reforcé los conocimientos que adquirí en el curso, no los apliqué a un tema que de verdad me interesara y afortunadamente este no fue el caso para la materia de Simulación Matemática."
   ]
  },
  {
   "cell_type": "markdown",
   "metadata": {},
   "source": [
    "Debido a esto tenía una idea completamente errónea sobre lo que aprendería en esta clase. **Creí que sería como aprender a usar Matlab para manejar matrices o hacer cálculos complejos, pero sin aplicarlos a las finanzas**. Me llevé una grata sorpresa porque **los temas** que vimos fueron muy interesantes y **los pude aplicar a mi área profesional**. Otros temas que también me gustaron mucho fue la integración y simulación de Montecarlo así como el ajuste de curvas, optimización de funciones, programación lineal, optimización con la librería Sympy y los tipos de osciladores."
   ]
  },
  {
   "cell_type": "markdown",
   "metadata": {},
   "source": [
    "**Creo que el recurso más valioso en este curso fueron los apuntes que nos brindó el profesor** mediante la carpeta del curso en Github porque al menos a mí me fueron muy útiles para todas las actividades que hicimos, incluyendo las tareas, examenes y proyectos. Con esos apuntes, los alumnos sólo teníamos que leer y comprender el tema para así poder hacer algo tan sencillo como copiar y pegar el código y modificar lo que se tuviera que modificar, dependiendo de los datos del problema. **Sin duda mi nivel de habilidades de programación mejoró mucho**. Y como sé que voy a necesitar lo que aprendí en este curso para futuras materias, creo que clonaré la carpeta más reciente y la guardaré en mi cuenta de Github."
   ]
  },
  {
   "cell_type": "markdown",
   "metadata": {},
   "source": [
    "Creo que un tema que me faltó desarrollar bien fue el de vectorización de código (optimizar los ciclos for y while) porque muchas de las tareas que nos dejaba el profesor al respecto me costaban mucho trabajo. No sabía bien cómo optimizar el código y sólo terminaba optimizando una o dos de las tantas funciones que había que optimizar. Con lo demás no tuve problema ya que **las soluciones de las demás tareas que publicaba el profesor me salían casi iguales a las que yo entregaba**. Finalmente, como sé que todas las tareas, examenes y proyectos los entregué en **tiempo y forma** y además pienso que fui de las **alumnas más comprometidas** (es decir que sólo falté una vez a clase, mi participación presencial fue aceptable y mi disciplina en el aula permitió una adecuada dinámica del profesor con los alumnos), me merezco un 10 final en el curso."
   ]
  }
 ],
 "metadata": {
  "kernelspec": {
   "display_name": "Python 3",
   "language": "python",
   "name": "python3"
  },
  "language_info": {
   "codemirror_mode": {
    "name": "ipython",
    "version": 3
   },
   "file_extension": ".py",
   "mimetype": "text/x-python",
   "name": "python",
   "nbconvert_exporter": "python",
   "pygments_lexer": "ipython3",
   "version": "3.7.3"
  }
 },
 "nbformat": 4,
 "nbformat_minor": 2
}
